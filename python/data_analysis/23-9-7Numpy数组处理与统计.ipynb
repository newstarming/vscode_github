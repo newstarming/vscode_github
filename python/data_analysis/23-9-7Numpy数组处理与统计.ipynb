{
 "cells": [
  {
   "cell_type": "markdown",
   "id": "4a7a05b2",
   "metadata": {},
   "source": [
    "## 1.数组处理"
   ]
  },
  {
   "cell_type": "markdown",
   "id": "1266ce9e",
   "metadata": {},
   "source": [
    "矢量化运算：\n",
    "\n",
    "对于numpy数组而言，可以将计算的操作广播到每一个元素上去。\n",
    "\n"
   ]
  },
  {
   "cell_type": "code",
   "execution_count": 1,
   "id": "640eac5c",
   "metadata": {},
   "outputs": [],
   "source": [
    "import numpy as np"
   ]
  },
  {
   "cell_type": "code",
   "execution_count": 2,
   "id": "8b33b53a",
   "metadata": {},
   "outputs": [
    {
     "data": {
      "text/plain": [
       "array([0, 1, 2, 3, 4, 5])"
      ]
     },
     "execution_count": 2,
     "metadata": {},
     "output_type": "execute_result"
    }
   ],
   "source": [
    "arr = np.array([0,1,2,3,4,5])\n",
    "arr"
   ]
  },
  {
   "cell_type": "code",
   "execution_count": 3,
   "id": "25ec0ff7",
   "metadata": {},
   "outputs": [
    {
     "data": {
      "text/plain": [
       "array([ 0,  2,  4,  6,  8, 10])"
      ]
     },
     "execution_count": 3,
     "metadata": {},
     "output_type": "execute_result"
    }
   ],
   "source": [
    "arr*2"
   ]
  },
  {
   "cell_type": "markdown",
   "id": "9c67c543",
   "metadata": {},
   "source": [
    "### 1.数组的转置\n",
    "\n",
    "数组名.transpose()\n",
    "\n",
    "数组名.T"
   ]
  },
  {
   "cell_type": "code",
   "execution_count": 4,
   "id": "560e1f76",
   "metadata": {},
   "outputs": [
    {
     "data": {
      "text/plain": [
       "array([[ 0,  1,  2,  3],\n",
       "       [ 4,  5,  6,  7],\n",
       "       [ 8,  9, 10, 11]])"
      ]
     },
     "execution_count": 4,
     "metadata": {},
     "output_type": "execute_result"
    }
   ],
   "source": [
    "arr1 = np.arange(12).reshape((3,4))\n",
    "arr1"
   ]
  },
  {
   "cell_type": "code",
   "execution_count": 5,
   "id": "c06c3213",
   "metadata": {},
   "outputs": [
    {
     "data": {
      "text/plain": [
       "array([[ 0,  4,  8],\n",
       "       [ 1,  5,  9],\n",
       "       [ 2,  6, 10],\n",
       "       [ 3,  7, 11]])"
      ]
     },
     "execution_count": 5,
     "metadata": {},
     "output_type": "execute_result"
    }
   ],
   "source": [
    "arr1.T"
   ]
  },
  {
   "cell_type": "code",
   "execution_count": 6,
   "id": "cb612ca9",
   "metadata": {},
   "outputs": [
    {
     "data": {
      "text/plain": [
       "array([[ 0,  4,  8],\n",
       "       [ 1,  5,  9],\n",
       "       [ 2,  6, 10],\n",
       "       [ 3,  7, 11]])"
      ]
     },
     "execution_count": 6,
     "metadata": {},
     "output_type": "execute_result"
    }
   ],
   "source": [
    "arr1.transpose()"
   ]
  },
  {
   "cell_type": "markdown",
   "id": "597a31c4",
   "metadata": {},
   "source": [
    "### 2.数组的排序\n",
    "\n",
    "数组名.sort(axis,kind)\n",
    "\n",
    "参数：\n",
    "\n",
    "* axis:表示按照行还是列的方向排列，0表示按照从上往下读取数据的方向来排序，1表示从左往右\n",
    "\n",
    "* kind：排序算法{'quicksort', 'mergesort', 'heapsort', 'stable'},分别表示快速排序，归并排序，堆排序，稳定排序\n",
    "\n"
   ]
  },
  {
   "cell_type": "code",
   "execution_count": 7,
   "id": "7f246d20",
   "metadata": {
    "scrolled": true
   },
   "outputs": [
    {
     "name": "stdout",
     "output_type": "stream",
     "text": [
      "Help on built-in function sort:\n",
      "\n",
      "sort(...) method of numpy.ndarray instance\n",
      "    a.sort(axis=-1, kind=None, order=None)\n",
      "    \n",
      "    Sort an array in-place. Refer to `numpy.sort` for full documentation.\n",
      "    \n",
      "    Parameters\n",
      "    ----------\n",
      "    axis : int, optional\n",
      "        Axis along which to sort. Default is -1, which means sort along the\n",
      "        last axis.\n",
      "    kind : {'quicksort', 'mergesort', 'heapsort', 'stable'}, optional\n",
      "        Sorting algorithm. The default is 'quicksort'. Note that both 'stable'\n",
      "        and 'mergesort' use timsort under the covers and, in general, the\n",
      "        actual implementation will vary with datatype. The 'mergesort' option\n",
      "        is retained for backwards compatibility.\n",
      "    \n",
      "        .. versionchanged:: 1.15.0\n",
      "           The 'stable' option was added.\n",
      "    \n",
      "    order : str or list of str, optional\n",
      "        When `a` is an array with fields defined, this argument specifies\n",
      "        which fields to compare first, second, etc.  A single field can\n",
      "        be specified as a string, and not all fields need be specified,\n",
      "        but unspecified fields will still be used, in the order in which\n",
      "        they come up in the dtype, to break ties.\n",
      "    \n",
      "    See Also\n",
      "    --------\n",
      "    numpy.sort : Return a sorted copy of an array.\n",
      "    numpy.argsort : Indirect sort.\n",
      "    numpy.lexsort : Indirect stable sort on multiple keys.\n",
      "    numpy.searchsorted : Find elements in sorted array.\n",
      "    numpy.partition: Partial sort.\n",
      "    \n",
      "    Notes\n",
      "    -----\n",
      "    See `numpy.sort` for notes on the different sorting algorithms.\n",
      "    \n",
      "    Examples\n",
      "    --------\n",
      "    >>> a = np.array([[1,4], [3,1]])\n",
      "    >>> a.sort(axis=1)\n",
      "    >>> a\n",
      "    array([[1, 4],\n",
      "           [1, 3]])\n",
      "    >>> a.sort(axis=0)\n",
      "    >>> a\n",
      "    array([[1, 3],\n",
      "           [1, 4]])\n",
      "    \n",
      "    Use the `order` keyword to specify a field to use when sorting a\n",
      "    structured array:\n",
      "    \n",
      "    >>> a = np.array([('a', 2), ('c', 1)], dtype=[('x', 'S1'), ('y', int)])\n",
      "    >>> a.sort(order='y')\n",
      "    >>> a\n",
      "    array([(b'c', 1), (b'a', 2)],\n",
      "          dtype=[('x', 'S1'), ('y', '<i8')])\n",
      "\n"
     ]
    }
   ],
   "source": [
    "help(arr1.sort)"
   ]
  },
  {
   "cell_type": "code",
   "execution_count": 19,
   "id": "23774118",
   "metadata": {},
   "outputs": [
    {
     "data": {
      "text/plain": [
       "array([12, 13,  5, 15, 10, 15,  3, 10,  4,  7])"
      ]
     },
     "execution_count": 19,
     "metadata": {},
     "output_type": "execute_result"
    }
   ],
   "source": [
    "# 创建一个有10个元素值在1~20之间的随机数组\n",
    "arr2 = np.random.randint(1,20,size=10)\n",
    "arr2"
   ]
  },
  {
   "cell_type": "code",
   "execution_count": 20,
   "id": "c1a2d743",
   "metadata": {},
   "outputs": [
    {
     "data": {
      "text/plain": [
       "array([[12, 13,  5, 15, 10],\n",
       "       [15,  3, 10,  4,  7]])"
      ]
     },
     "execution_count": 20,
     "metadata": {},
     "output_type": "execute_result"
    }
   ],
   "source": [
    "arr2 = arr2.reshape((2,5))\n",
    "arr2"
   ]
  },
  {
   "cell_type": "code",
   "execution_count": 21,
   "id": "54e76faa",
   "metadata": {},
   "outputs": [
    {
     "data": {
      "text/plain": [
       "array([[ 5, 10, 12, 13, 15],\n",
       "       [ 3,  4,  7, 10, 15]])"
      ]
     },
     "execution_count": 21,
     "metadata": {},
     "output_type": "execute_result"
    }
   ],
   "source": [
    "arr2.sort(axis=1)\n",
    "# 数组名.sort()没有返回值，而是直接修改源数据\n",
    "arr2"
   ]
  },
  {
   "cell_type": "code",
   "execution_count": null,
   "id": "f8c0ef82",
   "metadata": {},
   "outputs": [],
   "source": []
  },
  {
   "cell_type": "code",
   "execution_count": null,
   "id": "5eefa1e7",
   "metadata": {},
   "outputs": [],
   "source": []
  },
  {
   "cell_type": "code",
   "execution_count": null,
   "id": "54b64a4c",
   "metadata": {},
   "outputs": [],
   "source": []
  },
  {
   "cell_type": "code",
   "execution_count": null,
   "id": "c8c3b3e9",
   "metadata": {},
   "outputs": [],
   "source": []
  },
  {
   "cell_type": "code",
   "execution_count": null,
   "id": "2b514b71",
   "metadata": {},
   "outputs": [],
   "source": []
  }
 ],
 "metadata": {
  "kernelspec": {
   "display_name": "Python 3 (ipykernel)",
   "language": "python",
   "name": "python3"
  },
  "language_info": {
   "codemirror_mode": {
    "name": "ipython",
    "version": 3
   },
   "file_extension": ".py",
   "mimetype": "text/x-python",
   "name": "python",
   "nbconvert_exporter": "python",
   "pygments_lexer": "ipython3",
   "version": "3.10.9"
  }
 },
 "nbformat": 4,
 "nbformat_minor": 5
}
