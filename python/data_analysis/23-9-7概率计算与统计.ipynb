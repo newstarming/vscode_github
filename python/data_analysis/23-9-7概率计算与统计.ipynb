{
 "cells": [
  {
   "cell_type": "code",
   "execution_count": 3,
   "id": "bb3b3ddc",
   "metadata": {},
   "outputs": [],
   "source": [
    "# 导包\n",
    "import numpy as np\n",
    "import time\n",
    "import random"
   ]
  },
  {
   "cell_type": "code",
   "execution_count": 2,
   "id": "e5725c2f",
   "metadata": {},
   "outputs": [
    {
     "data": {
      "text/plain": [
       "array([1, 2, 3])"
      ]
     },
     "execution_count": 2,
     "metadata": {},
     "output_type": "execute_result"
    }
   ],
   "source": [
    "arr = np.array([1,2,3])\n",
    "arr"
   ]
  },
  {
   "cell_type": "code",
   "execution_count": 7,
   "id": "84cc75d8",
   "metadata": {
    "scrolled": true
   },
   "outputs": [
    {
     "data": {
      "text/plain": [
       "[26,\n",
       " 48,\n",
       " 41,\n",
       " 35,\n",
       " 22,\n",
       " 17,\n",
       " 34,\n",
       " 23,\n",
       " 31,\n",
       " 1,\n",
       " 43,\n",
       " 12,\n",
       " 30,\n",
       " 30,\n",
       " 48,\n",
       " 13,\n",
       " 46,\n",
       " 6,\n",
       " 18,\n",
       " 29,\n",
       " 14,\n",
       " 9,\n",
       " 4,\n",
       " 14,\n",
       " 45,\n",
       " 29,\n",
       " 10,\n",
       " 40,\n",
       " 49,\n",
       " 17,\n",
       " 8,\n",
       " 47,\n",
       " 26,\n",
       " 11,\n",
       " 15,\n",
       " 7,\n",
       " 43,\n",
       " 13,\n",
       " 28,\n",
       " 33,\n",
       " 48,\n",
       " 1,\n",
       " 41,\n",
       " 22,\n",
       " 50,\n",
       " 7,\n",
       " 19,\n",
       " 43,\n",
       " 6,\n",
       " 30,\n",
       " 19,\n",
       " 36,\n",
       " 35,\n",
       " 32,\n",
       " 27,\n",
       " 6,\n",
       " 49,\n",
       " 11,\n",
       " 5,\n",
       " 10,\n",
       " 28,\n",
       " 2,\n",
       " 5,\n",
       " 11,\n",
       " 8,\n",
       " 12,\n",
       " 6,\n",
       " 24,\n",
       " 25,\n",
       " 2,\n",
       " 19,\n",
       " 31,\n",
       " 7,\n",
       " 46,\n",
       " 34,\n",
       " 14,\n",
       " 5,\n",
       " 19,\n",
       " 47,\n",
       " 13,\n",
       " 49,\n",
       " 32,\n",
       " 20,\n",
       " 48,\n",
       " 36,\n",
       " 14,\n",
       " 31,\n",
       " 6,\n",
       " 20,\n",
       " 49,\n",
       " 15,\n",
       " 15,\n",
       " 46,\n",
       " 26,\n",
       " 29,\n",
       " 13,\n",
       " 38,\n",
       " 44,\n",
       " 6,\n",
       " 1]"
      ]
     },
     "execution_count": 7,
     "metadata": {},
     "output_type": "execute_result"
    }
   ],
   "source": [
    "lists = []\n",
    "for i in range(100):\n",
    "    lists.append(random.randint(1,50))\n",
    "lists"
   ]
  },
  {
   "cell_type": "code",
   "execution_count": 8,
   "id": "6636fa4f",
   "metadata": {
    "scrolled": true
   },
   "outputs": [
    {
     "data": {
      "text/plain": [
       "[26,\n",
       " 48,\n",
       " 41,\n",
       " 35,\n",
       " 22,\n",
       " 17,\n",
       " 34,\n",
       " 23,\n",
       " 31,\n",
       " 1,\n",
       " 43,\n",
       " 12,\n",
       " 30,\n",
       " 30,\n",
       " 48,\n",
       " 13,\n",
       " 46,\n",
       " 6,\n",
       " 18,\n",
       " 29,\n",
       " 14,\n",
       " 9,\n",
       " 4,\n",
       " 14,\n",
       " 45,\n",
       " 29,\n",
       " 10,\n",
       " 40,\n",
       " 49,\n",
       " 17,\n",
       " 8,\n",
       " 47,\n",
       " 26,\n",
       " 11,\n",
       " 15,\n",
       " 7,\n",
       " 43,\n",
       " 13,\n",
       " 28,\n",
       " 33,\n",
       " 48,\n",
       " 1,\n",
       " 41,\n",
       " 22,\n",
       " 50,\n",
       " 7,\n",
       " 19,\n",
       " 43,\n",
       " 6,\n",
       " 30,\n",
       " 19,\n",
       " 36,\n",
       " 35,\n",
       " 32,\n",
       " 27,\n",
       " 6,\n",
       " 49,\n",
       " 11,\n",
       " 5,\n",
       " 10,\n",
       " 28,\n",
       " 2,\n",
       " 5,\n",
       " 11,\n",
       " 8,\n",
       " 12,\n",
       " 6,\n",
       " 24,\n",
       " 25,\n",
       " 2,\n",
       " 19,\n",
       " 31,\n",
       " 7,\n",
       " 46,\n",
       " 34,\n",
       " 14,\n",
       " 5,\n",
       " 19,\n",
       " 47,\n",
       " 13,\n",
       " 49,\n",
       " 32,\n",
       " 20,\n",
       " 48,\n",
       " 36,\n",
       " 14,\n",
       " 31,\n",
       " 6,\n",
       " 20,\n",
       " 49,\n",
       " 15,\n",
       " 15,\n",
       " 46,\n",
       " 26,\n",
       " 29,\n",
       " 13,\n",
       " 38,\n",
       " 44,\n",
       " 6,\n",
       " 1,\n",
       " 2000]"
      ]
     },
     "execution_count": 8,
     "metadata": {},
     "output_type": "execute_result"
    }
   ],
   "source": [
    "lists.append(2000)\n",
    "lists"
   ]
  },
  {
   "cell_type": "markdown",
   "id": "a3b54248",
   "metadata": {},
   "source": [
    "#### 使用三西格玛原则检测异常值"
   ]
  },
  {
   "cell_type": "code",
   "execution_count": 9,
   "id": "700a98ad",
   "metadata": {},
   "outputs": [
    {
     "data": {
      "text/plain": [
       "43.64356435643565"
      ]
     },
     "execution_count": 9,
     "metadata": {},
     "output_type": "execute_result"
    }
   ],
   "source": [
    "# 计算平均值\n",
    "data_mean = np.mean(lists)\n",
    "data_mean"
   ]
  },
  {
   "cell_type": "code",
   "execution_count": 10,
   "id": "f3035bc1",
   "metadata": {},
   "outputs": [
    {
     "data": {
      "text/plain": [
       "196.20269293770724"
      ]
     },
     "execution_count": 10,
     "metadata": {},
     "output_type": "execute_result"
    }
   ],
   "source": [
    "# 标准差\n",
    "data_std = np.std(lists)\n",
    "data_std"
   ]
  },
  {
   "cell_type": "code",
   "execution_count": 11,
   "id": "fecc955c",
   "metadata": {},
   "outputs": [
    {
     "data": {
      "text/plain": [
       "array([False, False, False, False, False, False, False, False, False,\n",
       "       False, False, False, False, False, False, False, False, False,\n",
       "       False, False, False, False, False, False, False, False, False,\n",
       "       False, False, False, False, False, False, False, False, False,\n",
       "       False, False, False, False, False, False, False, False, False,\n",
       "       False, False, False, False, False, False, False, False, False,\n",
       "       False, False, False, False, False, False, False, False, False,\n",
       "       False, False, False, False, False, False, False, False, False,\n",
       "       False, False, False, False, False, False, False, False, False,\n",
       "       False, False, False, False, False, False, False, False, False,\n",
       "       False, False, False, False, False, False, False, False, False,\n",
       "       False,  True])"
      ]
     },
     "execution_count": 11,
     "metadata": {},
     "output_type": "execute_result"
    }
   ],
   "source": [
    "np.abs(lists-data_mean)>3*data_std"
   ]
  },
  {
   "cell_type": "code",
   "execution_count": 12,
   "id": "74691457",
   "metadata": {},
   "outputs": [
    {
     "data": {
      "text/plain": [
       "array([2000])"
      ]
     },
     "execution_count": 12,
     "metadata": {},
     "output_type": "execute_result"
    }
   ],
   "source": [
    "bol = np.abs(lists-data_mean)>3*data_std\n",
    "# 将list转为数组\n",
    "lists = np.array(lists)\n",
    "lists[bol]"
   ]
  },
  {
   "cell_type": "markdown",
   "id": "931ed142",
   "metadata": {},
   "source": [
    "#### 异常值检测的方法：三西格玛原则，格拉布斯原则，迪克逊准则，肖维勒准则，t检验，f检验"
   ]
  },
  {
   "cell_type": "markdown",
   "id": "79944c0d",
   "metadata": {},
   "source": [
    "#### 矩阵"
   ]
  },
  {
   "cell_type": "code",
   "execution_count": 13,
   "id": "da342c24",
   "metadata": {},
   "outputs": [
    {
     "data": {
      "text/plain": [
       "array([[0, 1],\n",
       "       [2, 3]])"
      ]
     },
     "execution_count": 13,
     "metadata": {},
     "output_type": "execute_result"
    }
   ],
   "source": [
    "a = np.arange(4).reshape((2,2))\n",
    "a"
   ]
  },
  {
   "cell_type": "code",
   "execution_count": 14,
   "id": "b20d18a1",
   "metadata": {},
   "outputs": [
    {
     "data": {
      "text/plain": [
       "array([[0, 2],\n",
       "       [4, 6]])"
      ]
     },
     "execution_count": 14,
     "metadata": {},
     "output_type": "execute_result"
    }
   ],
   "source": [
    "a*2"
   ]
  },
  {
   "cell_type": "code",
   "execution_count": 15,
   "id": "f2522161",
   "metadata": {},
   "outputs": [
    {
     "data": {
      "text/plain": [
       "array([[4, 5],\n",
       "       [6, 7]])"
      ]
     },
     "execution_count": 15,
     "metadata": {},
     "output_type": "execute_result"
    }
   ],
   "source": [
    "b = np.arange(4,8).reshape((2,2))\n",
    "b"
   ]
  },
  {
   "cell_type": "code",
   "execution_count": 16,
   "id": "2cb2bc7b",
   "metadata": {},
   "outputs": [
    {
     "data": {
      "text/plain": [
       "array([[ 4,  6],\n",
       "       [ 8, 10]])"
      ]
     },
     "execution_count": 16,
     "metadata": {},
     "output_type": "execute_result"
    }
   ],
   "source": [
    "a+b"
   ]
  },
  {
   "cell_type": "code",
   "execution_count": 17,
   "id": "b33b87ea",
   "metadata": {},
   "outputs": [
    {
     "data": {
      "text/plain": [
       "array([[ 6,  7],\n",
       "       [26, 31]])"
      ]
     },
     "execution_count": 17,
     "metadata": {},
     "output_type": "execute_result"
    }
   ],
   "source": [
    "# 矩阵的乘法，要求前者的列数等于后者的行数\n",
    "# 矩阵的乘法\n",
    "np.dot(a,b)"
   ]
  },
  {
   "cell_type": "code",
   "execution_count": 18,
   "id": "c062e181",
   "metadata": {},
   "outputs": [
    {
     "data": {
      "text/plain": [
       "array([[ 0,  5],\n",
       "       [12, 21]])"
      ]
     },
     "execution_count": 18,
     "metadata": {},
     "output_type": "execute_result"
    }
   ],
   "source": [
    "a*b  # ?????"
   ]
  },
  {
   "cell_type": "code",
   "execution_count": 19,
   "id": "98424f6c",
   "metadata": {},
   "outputs": [
    {
     "data": {
      "text/plain": [
       "array([[0.        , 0.33333333, 0.5       , 0.6       ],\n",
       "       [0.66666667, 0.71428571, 0.75      , 0.77777778],\n",
       "       [0.8       , 0.81818182, 0.83333333, 0.84615385],\n",
       "       [0.85714286, 0.86666667, 0.875     , 0.88235294]])"
      ]
     },
     "execution_count": 19,
     "metadata": {},
     "output_type": "execute_result"
    }
   ],
   "source": [
    "# 矩阵的除法\n",
    "a1 = np.arange(16).reshape(4,4)\n",
    "b1 = np.arange(2,18).reshape(4,4)\n",
    "np.divide(a1,b1)"
   ]
  },
  {
   "cell_type": "code",
   "execution_count": null,
   "id": "98e42aa6",
   "metadata": {},
   "outputs": [],
   "source": []
  },
  {
   "cell_type": "code",
   "execution_count": null,
   "id": "616a2779",
   "metadata": {},
   "outputs": [],
   "source": []
  },
  {
   "cell_type": "code",
   "execution_count": null,
   "id": "4063c425",
   "metadata": {},
   "outputs": [],
   "source": []
  },
  {
   "cell_type": "code",
   "execution_count": null,
   "id": "b27a3bd9",
   "metadata": {},
   "outputs": [],
   "source": []
  }
 ],
 "metadata": {
  "kernelspec": {
   "display_name": "Python 3 (ipykernel)",
   "language": "python",
   "name": "python3"
  },
  "language_info": {
   "codemirror_mode": {
    "name": "ipython",
    "version": 3
   },
   "file_extension": ".py",
   "mimetype": "text/x-python",
   "name": "python",
   "nbconvert_exporter": "python",
   "pygments_lexer": "ipython3",
   "version": "3.10.9"
  }
 },
 "nbformat": 4,
 "nbformat_minor": 5
}
