{
 "cells": [
  {
   "cell_type": "code",
   "execution_count": 3,
   "id": "7cf3d9d6",
   "metadata": {},
   "outputs": [],
   "source": [
    "# 导包\n",
    "import numpy as np\n",
    "import time\n",
    "import random"
   ]
  },
  {
   "cell_type": "code",
   "execution_count": 2,
   "id": "603a7075",
   "metadata": {},
   "outputs": [
    {
     "data": {
      "text/plain": [
       "array([1, 2, 3])"
      ]
     },
     "execution_count": 2,
     "metadata": {},
     "output_type": "execute_result"
    }
   ],
   "source": [
    "arr = np.array([1,2,3])\n",
    "arr"
   ]
  },
  {
   "cell_type": "code",
   "execution_count": 7,
   "id": "b3c83761",
   "metadata": {
    "scrolled": true
   },
   "outputs": [
    {
     "data": {
      "text/plain": [
       "[26,\n",
       " 48,\n",
       " 41,\n",
       " 35,\n",
       " 22,\n",
       " 17,\n",
       " 34,\n",
       " 23,\n",
       " 31,\n",
       " 1,\n",
       " 43,\n",
       " 12,\n",
       " 30,\n",
       " 30,\n",
       " 48,\n",
       " 13,\n",
       " 46,\n",
       " 6,\n",
       " 18,\n",
       " 29,\n",
       " 14,\n",
       " 9,\n",
       " 4,\n",
       " 14,\n",
       " 45,\n",
       " 29,\n",
       " 10,\n",
       " 40,\n",
       " 49,\n",
       " 17,\n",
       " 8,\n",
       " 47,\n",
       " 26,\n",
       " 11,\n",
       " 15,\n",
       " 7,\n",
       " 43,\n",
       " 13,\n",
       " 28,\n",
       " 33,\n",
       " 48,\n",
       " 1,\n",
       " 41,\n",
       " 22,\n",
       " 50,\n",
       " 7,\n",
       " 19,\n",
       " 43,\n",
       " 6,\n",
       " 30,\n",
       " 19,\n",
       " 36,\n",
       " 35,\n",
       " 32,\n",
       " 27,\n",
       " 6,\n",
       " 49,\n",
       " 11,\n",
       " 5,\n",
       " 10,\n",
       " 28,\n",
       " 2,\n",
       " 5,\n",
       " 11,\n",
       " 8,\n",
       " 12,\n",
       " 6,\n",
       " 24,\n",
       " 25,\n",
       " 2,\n",
       " 19,\n",
       " 31,\n",
       " 7,\n",
       " 46,\n",
       " 34,\n",
       " 14,\n",
       " 5,\n",
       " 19,\n",
       " 47,\n",
       " 13,\n",
       " 49,\n",
       " 32,\n",
       " 20,\n",
       " 48,\n",
       " 36,\n",
       " 14,\n",
       " 31,\n",
       " 6,\n",
       " 20,\n",
       " 49,\n",
       " 15,\n",
       " 15,\n",
       " 46,\n",
       " 26,\n",
       " 29,\n",
       " 13,\n",
       " 38,\n",
       " 44,\n",
       " 6,\n",
       " 1]"
      ]
     },
     "execution_count": 7,
     "metadata": {},
     "output_type": "execute_result"
    }
   ],
   "source": [
    "lists = []\n",
    "for i in range(100):\n",
    "    lists.append(random.randint(1,50))\n",
    "lists"
   ]
  },
  {
   "cell_type": "code",
   "execution_count": 8,
   "id": "51f9ac94",
   "metadata": {
    "scrolled": true
   },
   "outputs": [
    {
     "data": {
      "text/plain": [
       "[26,\n",
       " 48,\n",
       " 41,\n",
       " 35,\n",
       " 22,\n",
       " 17,\n",
       " 34,\n",
       " 23,\n",
       " 31,\n",
       " 1,\n",
       " 43,\n",
       " 12,\n",
       " 30,\n",
       " 30,\n",
       " 48,\n",
       " 13,\n",
       " 46,\n",
       " 6,\n",
       " 18,\n",
       " 29,\n",
       " 14,\n",
       " 9,\n",
       " 4,\n",
       " 14,\n",
       " 45,\n",
       " 29,\n",
       " 10,\n",
       " 40,\n",
       " 49,\n",
       " 17,\n",
       " 8,\n",
       " 47,\n",
       " 26,\n",
       " 11,\n",
       " 15,\n",
       " 7,\n",
       " 43,\n",
       " 13,\n",
       " 28,\n",
       " 33,\n",
       " 48,\n",
       " 1,\n",
       " 41,\n",
       " 22,\n",
       " 50,\n",
       " 7,\n",
       " 19,\n",
       " 43,\n",
       " 6,\n",
       " 30,\n",
       " 19,\n",
       " 36,\n",
       " 35,\n",
       " 32,\n",
       " 27,\n",
       " 6,\n",
       " 49,\n",
       " 11,\n",
       " 5,\n",
       " 10,\n",
       " 28,\n",
       " 2,\n",
       " 5,\n",
       " 11,\n",
       " 8,\n",
       " 12,\n",
       " 6,\n",
       " 24,\n",
       " 25,\n",
       " 2,\n",
       " 19,\n",
       " 31,\n",
       " 7,\n",
       " 46,\n",
       " 34,\n",
       " 14,\n",
       " 5,\n",
       " 19,\n",
       " 47,\n",
       " 13,\n",
       " 49,\n",
       " 32,\n",
       " 20,\n",
       " 48,\n",
       " 36,\n",
       " 14,\n",
       " 31,\n",
       " 6,\n",
       " 20,\n",
       " 49,\n",
       " 15,\n",
       " 15,\n",
       " 46,\n",
       " 26,\n",
       " 29,\n",
       " 13,\n",
       " 38,\n",
       " 44,\n",
       " 6,\n",
       " 1,\n",
       " 2000]"
      ]
     },
     "execution_count": 8,
     "metadata": {},
     "output_type": "execute_result"
    }
   ],
   "source": [
    "lists.append(2000)\n",
    "lists"
   ]
  },
  {
   "cell_type": "markdown",
   "id": "356caedc",
   "metadata": {},
   "source": [
    "#### 使用三西格玛原则检测异常值"
   ]
  },
  {
   "cell_type": "code",
   "execution_count": 9,
   "id": "927d8fd7",
   "metadata": {},
   "outputs": [
    {
     "data": {
      "text/plain": [
       "43.64356435643565"
      ]
     },
     "execution_count": 9,
     "metadata": {},
     "output_type": "execute_result"
    }
   ],
   "source": [
    "# 计算平均值\n",
    "data_mean = np.mean(lists)\n",
    "data_mean"
   ]
  },
  {
   "cell_type": "code",
   "execution_count": 10,
   "id": "20a461db",
   "metadata": {},
   "outputs": [
    {
     "data": {
      "text/plain": [
       "196.20269293770724"
      ]
     },
     "execution_count": 10,
     "metadata": {},
     "output_type": "execute_result"
    }
   ],
   "source": [
    "# 标准差\n",
    "data_std = np.std(lists)\n",
    "data_std"
   ]
  },
  {
   "cell_type": "code",
   "execution_count": 11,
   "id": "cefb4dcf",
   "metadata": {},
   "outputs": [
    {
     "data": {
      "text/plain": [
       "array([False, False, False, False, False, False, False, False, False,\n",
       "       False, False, False, False, False, False, False, False, False,\n",
       "       False, False, False, False, False, False, False, False, False,\n",
       "       False, False, False, False, False, False, False, False, False,\n",
       "       False, False, False, False, False, False, False, False, False,\n",
       "       False, False, False, False, False, False, False, False, False,\n",
       "       False, False, False, False, False, False, False, False, False,\n",
       "       False, False, False, False, False, False, False, False, False,\n",
       "       False, False, False, False, False, False, False, False, False,\n",
       "       False, False, False, False, False, False, False, False, False,\n",
       "       False, False, False, False, False, False, False, False, False,\n",
       "       False,  True])"
      ]
     },
     "execution_count": 11,
     "metadata": {},
     "output_type": "execute_result"
    }
   ],
   "source": [
    "np.abs(lists-data_mean)>3*data_std"
   ]
  },
  {
   "cell_type": "code",
   "execution_count": 12,
   "id": "53593f61",
   "metadata": {},
   "outputs": [
    {
     "data": {
      "text/plain": [
       "array([2000])"
      ]
     },
     "execution_count": 12,
     "metadata": {},
     "output_type": "execute_result"
    }
   ],
   "source": [
    "bol = np.abs(lists-data_mean)>3*data_std\n",
    "# 将list转为数组\n",
    "lists = np.array(lists)\n",
    "lists[bol]"
   ]
  },
  {
   "cell_type": "code",
   "execution_count": null,
   "id": "c15b8c29",
   "metadata": {},
   "outputs": [],
   "source": []
  },
  {
   "cell_type": "code",
   "execution_count": null,
   "id": "71c8e675",
   "metadata": {},
   "outputs": [],
   "source": []
  },
  {
   "cell_type": "code",
   "execution_count": null,
   "id": "ac64c780",
   "metadata": {},
   "outputs": [],
   "source": []
  },
  {
   "cell_type": "code",
   "execution_count": null,
   "id": "295fb5cf",
   "metadata": {},
   "outputs": [],
   "source": []
  }
 ],
 "metadata": {
  "kernelspec": {
   "display_name": "Python 3 (ipykernel)",
   "language": "python",
   "name": "python3"
  },
  "language_info": {
   "codemirror_mode": {
    "name": "ipython",
    "version": 3
   },
   "file_extension": ".py",
   "mimetype": "text/x-python",
   "name": "python",
   "nbconvert_exporter": "python",
   "pygments_lexer": "ipython3",
   "version": "3.10.9"
  }
 },
 "nbformat": 4,
 "nbformat_minor": 5
}
